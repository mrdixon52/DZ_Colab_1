{
  "nbformat": 4,
  "nbformat_minor": 0,
  "metadata": {
    "colab": {
      "provenance": [],
      "authorship_tag": "ABX9TyNQrw19JFbCGEphFQVVS6El",
      "include_colab_link": true
    },
    "kernelspec": {
      "name": "python3",
      "display_name": "Python 3"
    },
    "language_info": {
      "name": "python"
    }
  },
  "cells": [
    {
      "cell_type": "markdown",
      "metadata": {
        "id": "view-in-github",
        "colab_type": "text"
      },
      "source": [
        "<a href=\"https://colab.research.google.com/github/mrdixon52/DZ_Colab_1/blob/main/DZ_Colab1.ipynb\" target=\"_parent\"><img src=\"https://colab.research.google.com/assets/colab-badge.svg\" alt=\"Open In Colab\"/></a>"
      ]
    },
    {
      "cell_type": "code",
      "execution_count": 6,
      "metadata": {
        "id": "keaMFQSJV-xp"
      },
      "outputs": [],
      "source": [
        "import pandas as pd\n",
        "df = pd.read_csv('sample_data/california_housing_train.csv')"
      ]
    },
    {
      "cell_type": "markdown",
      "source": [
        "# Задача 1\n",
        "Работать с файлом california_housing_train.csv, который находится в папке sample_data. Определить среднюю стоимость дома, где кол-во людей от 0 до 500 (population)"
      ],
      "metadata": {
        "id": "VmNNFb05Dg-W"
      }
    },
    {
      "cell_type": "code",
      "source": [
        "df[df['population'] <= 500].describe()"
      ],
      "metadata": {
        "colab": {
          "base_uri": "https://localhost:8080/",
          "height": 300
        },
        "id": "Lz9zTYj8W9f0",
        "outputId": "b23227ca-408c-475f-c029-727264aee426"
      },
      "execution_count": 9,
      "outputs": [
        {
          "output_type": "execute_result",
          "data": {
            "text/plain": [
              "        longitude     latitude  housing_median_age  total_rooms  \\\n",
              "count  1605.00000  1605.000000         1605.000000  1605.000000   \n",
              "mean   -119.95319    36.250536           30.740810   744.564486   \n",
              "std       2.05999     2.246843           13.691884   576.329719   \n",
              "min    -124.25000    32.570000            1.000000     2.000000   \n",
              "25%    -121.95000    34.030000           19.000000   381.000000   \n",
              "50%    -120.16000    37.080000           32.000000   696.000000   \n",
              "75%    -118.18000    37.950000           42.000000   978.000000   \n",
              "max    -114.56000    41.820000           52.000000  7744.000000   \n",
              "\n",
              "       total_bedrooms   population   households  median_income  \\\n",
              "count     1605.000000  1605.000000  1605.000000    1605.000000   \n",
              "mean       152.542056   308.384424   122.087850       3.877711   \n",
              "std        115.851861   138.390674    64.855194       2.371571   \n",
              "min          1.000000     3.000000     1.000000       0.499900   \n",
              "25%         84.000000   203.000000    72.000000       2.305600   \n",
              "50%        139.000000   335.000000   124.000000       3.333300   \n",
              "75%        190.000000   425.000000   166.000000       4.784500   \n",
              "max       1573.000000   500.000000   348.000000      15.000100   \n",
              "\n",
              "       median_house_value  \n",
              "count         1605.000000  \n",
              "mean        206799.951402  \n",
              "std         131809.535969  \n",
              "min          14999.000000  \n",
              "25%         103300.000000  \n",
              "50%         169500.000000  \n",
              "75%         275000.000000  \n",
              "max         500001.000000  "
            ],
            "text/html": [
              "\n",
              "  <div id=\"df-1b48a396-afd3-433f-9ee5-5e5902b95b8b\">\n",
              "    <div class=\"colab-df-container\">\n",
              "      <div>\n",
              "<style scoped>\n",
              "    .dataframe tbody tr th:only-of-type {\n",
              "        vertical-align: middle;\n",
              "    }\n",
              "\n",
              "    .dataframe tbody tr th {\n",
              "        vertical-align: top;\n",
              "    }\n",
              "\n",
              "    .dataframe thead th {\n",
              "        text-align: right;\n",
              "    }\n",
              "</style>\n",
              "<table border=\"1\" class=\"dataframe\">\n",
              "  <thead>\n",
              "    <tr style=\"text-align: right;\">\n",
              "      <th></th>\n",
              "      <th>longitude</th>\n",
              "      <th>latitude</th>\n",
              "      <th>housing_median_age</th>\n",
              "      <th>total_rooms</th>\n",
              "      <th>total_bedrooms</th>\n",
              "      <th>population</th>\n",
              "      <th>households</th>\n",
              "      <th>median_income</th>\n",
              "      <th>median_house_value</th>\n",
              "    </tr>\n",
              "  </thead>\n",
              "  <tbody>\n",
              "    <tr>\n",
              "      <th>count</th>\n",
              "      <td>1605.00000</td>\n",
              "      <td>1605.000000</td>\n",
              "      <td>1605.000000</td>\n",
              "      <td>1605.000000</td>\n",
              "      <td>1605.000000</td>\n",
              "      <td>1605.000000</td>\n",
              "      <td>1605.000000</td>\n",
              "      <td>1605.000000</td>\n",
              "      <td>1605.000000</td>\n",
              "    </tr>\n",
              "    <tr>\n",
              "      <th>mean</th>\n",
              "      <td>-119.95319</td>\n",
              "      <td>36.250536</td>\n",
              "      <td>30.740810</td>\n",
              "      <td>744.564486</td>\n",
              "      <td>152.542056</td>\n",
              "      <td>308.384424</td>\n",
              "      <td>122.087850</td>\n",
              "      <td>3.877711</td>\n",
              "      <td>206799.951402</td>\n",
              "    </tr>\n",
              "    <tr>\n",
              "      <th>std</th>\n",
              "      <td>2.05999</td>\n",
              "      <td>2.246843</td>\n",
              "      <td>13.691884</td>\n",
              "      <td>576.329719</td>\n",
              "      <td>115.851861</td>\n",
              "      <td>138.390674</td>\n",
              "      <td>64.855194</td>\n",
              "      <td>2.371571</td>\n",
              "      <td>131809.535969</td>\n",
              "    </tr>\n",
              "    <tr>\n",
              "      <th>min</th>\n",
              "      <td>-124.25000</td>\n",
              "      <td>32.570000</td>\n",
              "      <td>1.000000</td>\n",
              "      <td>2.000000</td>\n",
              "      <td>1.000000</td>\n",
              "      <td>3.000000</td>\n",
              "      <td>1.000000</td>\n",
              "      <td>0.499900</td>\n",
              "      <td>14999.000000</td>\n",
              "    </tr>\n",
              "    <tr>\n",
              "      <th>25%</th>\n",
              "      <td>-121.95000</td>\n",
              "      <td>34.030000</td>\n",
              "      <td>19.000000</td>\n",
              "      <td>381.000000</td>\n",
              "      <td>84.000000</td>\n",
              "      <td>203.000000</td>\n",
              "      <td>72.000000</td>\n",
              "      <td>2.305600</td>\n",
              "      <td>103300.000000</td>\n",
              "    </tr>\n",
              "    <tr>\n",
              "      <th>50%</th>\n",
              "      <td>-120.16000</td>\n",
              "      <td>37.080000</td>\n",
              "      <td>32.000000</td>\n",
              "      <td>696.000000</td>\n",
              "      <td>139.000000</td>\n",
              "      <td>335.000000</td>\n",
              "      <td>124.000000</td>\n",
              "      <td>3.333300</td>\n",
              "      <td>169500.000000</td>\n",
              "    </tr>\n",
              "    <tr>\n",
              "      <th>75%</th>\n",
              "      <td>-118.18000</td>\n",
              "      <td>37.950000</td>\n",
              "      <td>42.000000</td>\n",
              "      <td>978.000000</td>\n",
              "      <td>190.000000</td>\n",
              "      <td>425.000000</td>\n",
              "      <td>166.000000</td>\n",
              "      <td>4.784500</td>\n",
              "      <td>275000.000000</td>\n",
              "    </tr>\n",
              "    <tr>\n",
              "      <th>max</th>\n",
              "      <td>-114.56000</td>\n",
              "      <td>41.820000</td>\n",
              "      <td>52.000000</td>\n",
              "      <td>7744.000000</td>\n",
              "      <td>1573.000000</td>\n",
              "      <td>500.000000</td>\n",
              "      <td>348.000000</td>\n",
              "      <td>15.000100</td>\n",
              "      <td>500001.000000</td>\n",
              "    </tr>\n",
              "  </tbody>\n",
              "</table>\n",
              "</div>\n",
              "      <button class=\"colab-df-convert\" onclick=\"convertToInteractive('df-1b48a396-afd3-433f-9ee5-5e5902b95b8b')\"\n",
              "              title=\"Convert this dataframe to an interactive table.\"\n",
              "              style=\"display:none;\">\n",
              "        \n",
              "  <svg xmlns=\"http://www.w3.org/2000/svg\" height=\"24px\"viewBox=\"0 0 24 24\"\n",
              "       width=\"24px\">\n",
              "    <path d=\"M0 0h24v24H0V0z\" fill=\"none\"/>\n",
              "    <path d=\"M18.56 5.44l.94 2.06.94-2.06 2.06-.94-2.06-.94-.94-2.06-.94 2.06-2.06.94zm-11 1L8.5 8.5l.94-2.06 2.06-.94-2.06-.94L8.5 2.5l-.94 2.06-2.06.94zm10 10l.94 2.06.94-2.06 2.06-.94-2.06-.94-.94-2.06-.94 2.06-2.06.94z\"/><path d=\"M17.41 7.96l-1.37-1.37c-.4-.4-.92-.59-1.43-.59-.52 0-1.04.2-1.43.59L10.3 9.45l-7.72 7.72c-.78.78-.78 2.05 0 2.83L4 21.41c.39.39.9.59 1.41.59.51 0 1.02-.2 1.41-.59l7.78-7.78 2.81-2.81c.8-.78.8-2.07 0-2.86zM5.41 20L4 18.59l7.72-7.72 1.47 1.35L5.41 20z\"/>\n",
              "  </svg>\n",
              "      </button>\n",
              "      \n",
              "  <style>\n",
              "    .colab-df-container {\n",
              "      display:flex;\n",
              "      flex-wrap:wrap;\n",
              "      gap: 12px;\n",
              "    }\n",
              "\n",
              "    .colab-df-convert {\n",
              "      background-color: #E8F0FE;\n",
              "      border: none;\n",
              "      border-radius: 50%;\n",
              "      cursor: pointer;\n",
              "      display: none;\n",
              "      fill: #1967D2;\n",
              "      height: 32px;\n",
              "      padding: 0 0 0 0;\n",
              "      width: 32px;\n",
              "    }\n",
              "\n",
              "    .colab-df-convert:hover {\n",
              "      background-color: #E2EBFA;\n",
              "      box-shadow: 0px 1px 2px rgba(60, 64, 67, 0.3), 0px 1px 3px 1px rgba(60, 64, 67, 0.15);\n",
              "      fill: #174EA6;\n",
              "    }\n",
              "\n",
              "    [theme=dark] .colab-df-convert {\n",
              "      background-color: #3B4455;\n",
              "      fill: #D2E3FC;\n",
              "    }\n",
              "\n",
              "    [theme=dark] .colab-df-convert:hover {\n",
              "      background-color: #434B5C;\n",
              "      box-shadow: 0px 1px 3px 1px rgba(0, 0, 0, 0.15);\n",
              "      filter: drop-shadow(0px 1px 2px rgba(0, 0, 0, 0.3));\n",
              "      fill: #FFFFFF;\n",
              "    }\n",
              "  </style>\n",
              "\n",
              "      <script>\n",
              "        const buttonEl =\n",
              "          document.querySelector('#df-1b48a396-afd3-433f-9ee5-5e5902b95b8b button.colab-df-convert');\n",
              "        buttonEl.style.display =\n",
              "          google.colab.kernel.accessAllowed ? 'block' : 'none';\n",
              "\n",
              "        async function convertToInteractive(key) {\n",
              "          const element = document.querySelector('#df-1b48a396-afd3-433f-9ee5-5e5902b95b8b');\n",
              "          const dataTable =\n",
              "            await google.colab.kernel.invokeFunction('convertToInteractive',\n",
              "                                                     [key], {});\n",
              "          if (!dataTable) return;\n",
              "\n",
              "          const docLinkHtml = 'Like what you see? Visit the ' +\n",
              "            '<a target=\"_blank\" href=https://colab.research.google.com/notebooks/data_table.ipynb>data table notebook</a>'\n",
              "            + ' to learn more about interactive tables.';\n",
              "          element.innerHTML = '';\n",
              "          dataTable['output_type'] = 'display_data';\n",
              "          await google.colab.output.renderOutput(dataTable, element);\n",
              "          const docLink = document.createElement('div');\n",
              "          docLink.innerHTML = docLinkHtml;\n",
              "          element.appendChild(docLink);\n",
              "        }\n",
              "      </script>\n",
              "    </div>\n",
              "  </div>\n",
              "  "
            ]
          },
          "metadata": {},
          "execution_count": 9
        }
      ]
    },
    {
      "cell_type": "code",
      "source": [
        "df[df['population'] <= 500].median_house_value.mean()"
      ],
      "metadata": {
        "colab": {
          "base_uri": "https://localhost:8080/"
        },
        "id": "MgO2GomLXu9f",
        "outputId": "ceff9b6e-f61e-469e-d33e-a796b8e8a802"
      },
      "execution_count": 10,
      "outputs": [
        {
          "output_type": "execute_result",
          "data": {
            "text/plain": [
              "206799.95140186916"
            ]
          },
          "metadata": {},
          "execution_count": 10
        }
      ]
    },
    {
      "cell_type": "markdown",
      "source": [
        "# Задача 2\n",
        "Узнать какая максимальная households в зоне минимального значения population"
      ],
      "metadata": {
        "id": "dnt4Ikx-DSow"
      }
    },
    {
      "cell_type": "code",
      "source": [
        "df[df['population'] == df['population'].min()].households.max()"
      ],
      "metadata": {
        "colab": {
          "base_uri": "https://localhost:8080/"
        },
        "id": "CJDGB7neFIkV",
        "outputId": "7202ebd1-57f5-47e2-de05-14c4ab238214"
      },
      "execution_count": 25,
      "outputs": [
        {
          "output_type": "execute_result",
          "data": {
            "text/plain": [
              "4.0"
            ]
          },
          "metadata": {},
          "execution_count": 25
        }
      ]
    }
  ]
}